{
 "cells": [
  {
   "cell_type": "markdown",
   "metadata": {},
   "source": [
    "# Catalogue\n",
    "\n",
    "Get a catalogue and information about the downloaded files. "
   ]
  },
  {
   "cell_type": "code",
   "execution_count": 1,
   "metadata": {},
   "outputs": [],
   "source": [
    "import pansat \n",
    "from pansat.catalogue import local\n",
    "from pansat.products.reanalysis import era5"
   ]
  },
  {
   "cell_type": "markdown",
   "metadata": {},
   "source": [
    "**1. Look at available products**"
   ]
  },
  {
   "cell_type": "code",
   "execution_count": 2,
   "metadata": {},
   "outputs": [
    {
     "data": {
      "text/plain": [
       "['reanalysis-era5-land',\n",
       " 'reanalysis-era5-land-monthly-means',\n",
       " 'reanalysis-era5-pressure-levels',\n",
       " 'reanalysis-era5-pressure-levels-monthly-means',\n",
       " 'reanalysis-era5-single-levels',\n",
       " 'reanalysis-era5-single-levels-monthly-means',\n",
       " 'ncep.reanalysis-surface',\n",
       " 'ncep.reanalysis-pressure',\n",
       " 'ncep.reanalysis-surface_gauss',\n",
       " 'ncep.reanalysis-spectral',\n",
       " 'ncep.reanalysis-tropopause',\n",
       " 'CloudSat_1B-CPR',\n",
       " 'CloudSat_2B-CLDCLASS',\n",
       " 'CloudSat_2B-CLDCLASS-LIDAR',\n",
       " 'CloudSat_2B-CWC-RO',\n",
       " 'CloudSat_2B-CWC-RVOD',\n",
       " 'CloudSat_2B-FLXHR',\n",
       " 'CloudSat_2B-FLXHR-LIDAR',\n",
       " 'CloudSat_2B-GEOPROF',\n",
       " 'CloudSat_2B-GEOPROF-LIDAR',\n",
       " 'CloudSat_2B-TAU',\n",
       " 'CloudSat_2C-ICE',\n",
       " 'CloudSat_2C-PRECIP-COLUMN',\n",
       " 'CloudSat_2C-RAIN-PROFILE',\n",
       " 'CloudSat_2C-SNOW-PROFILE',\n",
       " 'Calipso_333mCLay',\n",
       " 'Calipso_05kmAPro',\n",
       " 'Dardar_DARDAR-CLOUD',\n",
       " 'Dardar_DARDAR_CLOUD',\n",
       " 'GPM_1A_GPM_GMI',\n",
       " 'GPM_1B_GPM_GMI',\n",
       " 'GPM_1Base_GPM_GMI',\n",
       " 'GPM_1Base-RSS_GPM_GMI',\n",
       " 'GPM_1Base-XCAL_GPM_GMI',\n",
       " 'GPM_1C_AQUA_AMSRE',\n",
       " 'GPM_1C_F08_SSMI',\n",
       " 'GPM_1C_F10_SSMI',\n",
       " 'GPM_1C_F11_SSMI',\n",
       " 'GPM_1C_F13_SSMI',\n",
       " 'GPM_1C_F14_SSMI',\n",
       " 'GPM_1C_F15_SSMI',\n",
       " 'GPM_1C_F16_SSMIS',\n",
       " 'GPM_1C_F17_SSMIS',\n",
       " 'GPM_1C_F18_SSMIS',\n",
       " 'GPM_1C_F19_SSMIS',\n",
       " 'GPM_1C_GCOMW1_AMSR2',\n",
       " 'GPM_1C_GPM_GMI',\n",
       " 'GPM_1C-R_GPM_GMI',\n",
       " 'GPM_1C_METOPA_MHS',\n",
       " 'GPM_1C_METOPB_MHS',\n",
       " 'GPM_1C_METOPC_MHS',\n",
       " 'GPM_1C_MT1_SAPHIR',\n",
       " 'GPM_1C_NOAA15_AMSUB',\n",
       " 'GPM_1C_NOAA16_AMSUB',\n",
       " 'GPM_1C_NOAA17_AMSUB',\n",
       " 'GPM_1C_NOAA18_MHS',\n",
       " 'GPM_1C_NOAA19_MHS',\n",
       " 'GPM_1C_NOAA20_ATMS',\n",
       " 'GPM_1C_NPP_ATMS',\n",
       " 'GPM_2A_GPM_DPR',\n",
       " 'GPM_2A-ENV_GPM_DPR',\n",
       " 'GPM_2A-CLIM_AQUA_AMSRE',\n",
       " 'GPM_2A-CLIM_F11_SSMI',\n",
       " 'GPM_2A-CLIM_F13_SSMI',\n",
       " 'GPM_2A-CLIM_F14_SSMI',\n",
       " 'GPM_2A-CLIM_F15_SSMI',\n",
       " 'GPM_2A_F16_SSMIS',\n",
       " 'GPM_2A-CLIM_F16_SSMIS',\n",
       " 'GPM_2A_F17_SSMIS',\n",
       " 'GPM_2A-CLIM_F17_SSMIS',\n",
       " 'GPM_2A_F18_SSMIS',\n",
       " 'GPM_2A-CLIM_F18_SSMIS',\n",
       " 'GPM_2A_F19_SSMIS',\n",
       " 'GPM_2A-CLIM_F19_SSMIS',\n",
       " 'GPM_2A_GCOMW1_AMSR2',\n",
       " 'GPM_2A-CLIM_GCOMW1_AMSR2',\n",
       " 'GPM_2A_GPM_GMI',\n",
       " 'GPM_2A-CLIM_GPM_GMI',\n",
       " 'GPM_2A_METOPA_MHS',\n",
       " 'GPM_2A-CLIM_METOPA_MHS',\n",
       " 'GPM_2A_METOPB_MHS',\n",
       " 'GPM_2A-CLIM_METOPB_MHS',\n",
       " 'GPM_2A_METOPC_MHS',\n",
       " 'GPM_2A-CLIM_METOPC_MHS',\n",
       " 'GPM_2A-CLIM_NOAA15_AMSUB',\n",
       " 'GPM_2A-CLIM_NOAA16_AMSUB',\n",
       " 'GPM_2A-CLIM_NOAA17_AMSUB',\n",
       " 'GPM_2A_NOAA18_MHS',\n",
       " 'GPM_2A-CLIM_NOAA18_MHS',\n",
       " 'GPM_2A_NOAA19_MHS',\n",
       " 'GPM_2A-CLIM_NOAA19_MHS',\n",
       " 'GPM_2A_NOAA20_ATMS',\n",
       " 'GPM_2A-CLIM_NOAA20_ATMS',\n",
       " 'GPM_2A_NPP_ATMS',\n",
       " 'GPM_2A-CLIM_NPP_ATMS',\n",
       " 'GPM_2A_GPM_Ka',\n",
       " 'GPM_2A-ENV_GPM_Ka',\n",
       " 'GPM_2A_GPM_Ku',\n",
       " 'GPM_2A-ENV_GPM_Ku',\n",
       " 'GPM_2A_MT1_SAPHIR',\n",
       " 'GPM_2A-CLIM_MT1_SAPHIR',\n",
       " 'GPM_2B_GPM_DPRGMI',\n",
       " 'GPM_3B-MO_GPM_DPRGMI',\n",
       " 'GPM_3B-DAY_GPM_DPRGMI',\n",
       " 'GPM_3A-MO_GPM_DPR',\n",
       " 'GPM_3A-DAY_GPM_DPR',\n",
       " 'GPM_3B-ORBIT_GPM_DPRGMI',\n",
       " 'GPM_3A-MO_F16_SSMIS',\n",
       " 'GPM_3A-DAY_F16_SSMIS',\n",
       " 'GPM_3A-MO_F17_SSMIS',\n",
       " 'GPM_3A-DAY_F17_SSMIS',\n",
       " 'GPM_3A-MO_F18_SSMIS',\n",
       " 'GPM_3A-DAY_F18_SSMIS',\n",
       " 'GPM_3A-MO_F19_SSMIS',\n",
       " 'GPM_3A-DAY_F19_SSMIS',\n",
       " 'GPM_3A-MO_GCOMW1_AMSR2',\n",
       " 'GPM_3A-DAY_GCOMW1_AMSR2',\n",
       " 'GPM_3A-MO_GPM_GMI',\n",
       " 'GPM_3A-DAY_GPM_GMI',\n",
       " 'GPM_3A-MO_METOPA_MHS',\n",
       " 'GPM_3A-DAY_METOPA_MHS',\n",
       " 'GPM_3A-MO_METOPB_MHS',\n",
       " 'GPM_3A-DAY_METOPB_MHS',\n",
       " 'GPM_3A-MO_METOPC_MHS',\n",
       " 'GPM_3A-DAY_METOPC_MHS',\n",
       " 'GPM_3A-MO_NOAA18_MHS',\n",
       " 'GPM_3A-DAY_NOAA18_MHS',\n",
       " 'GPM_3A-MO_NOAA19_MHS',\n",
       " 'GPM_3A-DAY_NOAA19_MHS',\n",
       " 'GPM_3A-MO_NOAA20_ATMS',\n",
       " 'GPM_3A-DAY_NOAA20_ATMS',\n",
       " 'GPM_3A-MO_NPP_ATMS',\n",
       " 'GPM_3A-DAY_NPP_ATMS',\n",
       " 'GPM_3A-ORBIT_GPM_DPR',\n",
       " 'GPM_3B-HHR_MS_MRG',\n",
       " 'GPM_3B-MO_MS_MRG',\n",
       " 'GPM_3A-MO_MT1_SAPHIR',\n",
       " 'GPM_3A-DAY_MT1_SAPHIR']"
      ]
     },
     "execution_count": 2,
     "metadata": {},
     "output_type": "execute_result"
    }
   ],
   "source": [
    "my_catalogue= local.ProductCatalogue()\n",
    "my_catalogue.available_products"
   ]
  },
  {
   "cell_type": "markdown",
   "metadata": {},
   "source": [
    "**2. Check downloaded files for specific product**"
   ]
  },
  {
   "cell_type": "code",
   "execution_count": 3,
   "metadata": {},
   "outputs": [
    {
     "data": {
      "text/plain": [
       "['reanalysis-era5-single-levels-monthly-means_201908_2m_temperature.nc',\n",
       " 'reanalysis-era5-single-levels-monthly-means_202003_2m_temperature.nc',\n",
       " 'reanalysis-era5-single-levels-monthly-means_20180100:00_2m_temperature.nc',\n",
       " 'reanalysis-era5-single-levels-monthly-means_200910_2m_temperature.nc',\n",
       " 'reanalysis-era5-single-levels-monthly-means_20180400:00_2m_temperature.nc',\n",
       " 'reanalysis-era5-single-levels-monthly-means_20190100:00_2m_temperature.nc']"
      ]
     },
     "execution_count": 3,
     "metadata": {},
     "output_type": "execute_result"
    }
   ],
   "source": [
    "my_product = era5.ERA5Product('monthly','surface', ['2m_temperature'])\n",
    "files= my_catalogue.get_files_for_product(my_product)\n",
    "files"
   ]
  },
  {
   "cell_type": "markdown",
   "metadata": {},
   "source": [
    "**3. Get dictionary with all downloaded products**"
   ]
  },
  {
   "cell_type": "code",
   "execution_count": 9,
   "metadata": {},
   "outputs": [
    {
     "data": {
      "text/plain": [
       "{'ERA5': {'reanalysis-era5-single-levels-monthly-means': 'reanalysis-era5-single-levels-monthly-means_201908_2m_temperature.nc',\n",
       "  'reanalysis-era5-single-levels': 'reanalysis-era5-single-levels-monthly-means_202003_2m_temperature.nc',\n",
       "  'reanalysis-era5-land-monthly-means': 'reanalysis-era5-single-levels-monthly-means_20180100:00_2m_temperature.nc'},\n",
       " 'NCEP': {'ncep.reanalysis-pressure': 'rhum.2016.nc'},\n",
       " 'IGRA': {'igra-soundings': 'temp_12z-mly-202011.txt'}}"
      ]
     },
     "execution_count": 9,
     "metadata": {},
     "output_type": "execute_result"
    }
   ],
   "source": [
    "file_dict = my_catalogue.get_file_catalogue()\n",
    "file_dict"
   ]
  },
  {
   "cell_type": "markdown",
   "metadata": {},
   "source": [
    "**4. Print overview over downloaded files for each product and product class**"
   ]
  },
  {
   "cell_type": "code",
   "execution_count": 6,
   "metadata": {},
   "outputs": [
    {
     "name": "stdout",
     "output_type": "stream",
     "text": [
      "ERA5\n",
      "\treanalysis-era5-single-levels-monthly-means\n",
      "\t\treanalysis-era5-single-levels-monthly-means_201908_2m_temperature.nc\n",
      "\treanalysis-era5-single-levels\n",
      "\t\treanalysis-era5-single-levels-monthly-means_202003_2m_temperature.nc\n",
      "\treanalysis-era5-land-monthly-means\n",
      "\t\treanalysis-era5-single-levels-monthly-means_20180100:00_2m_temperature.nc\n",
      "NCEP\n",
      "\tncep.reanalysis-pressure\n",
      "\t\trhum.2016.nc\n",
      "IGRA\n",
      "\tigra-soundings\n",
      "\t\ttemp_12z-mly-202011.txt\n"
     ]
    }
   ],
   "source": [
    "my_catalogue.print_file_catalogue()"
   ]
  }
 ],
 "metadata": {
  "kernelspec": {
   "display_name": "Python 3",
   "language": "python",
   "name": "python3"
  },
  "language_info": {
   "codemirror_mode": {
    "name": "ipython",
    "version": 3
   },
   "file_extension": ".py",
   "mimetype": "text/x-python",
   "name": "python",
   "nbconvert_exporter": "python",
   "pygments_lexer": "ipython3",
   "version": "3.6.11"
  }
 },
 "nbformat": 4,
 "nbformat_minor": 4
}
