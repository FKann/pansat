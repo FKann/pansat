{
 "cells": [
  {
   "cell_type": "markdown",
   "metadata": {},
   "source": [
    "# GOES 16\n"
   ]
  },
  {
   "cell_type": "code",
   "execution_count": null,
   "metadata": {},
   "outputs": [],
   "source": [
    "%load_ext autoreload\n",
    "%autoreload 2\n",
    "import matplotlib.pyplot\n",
    "import numpy as np\n",
    "from datetime import datetime\n",
    "from pansat.products.satellite.goes16 import l1b_radiances_all_conus"
   ]
  },
  {
   "cell_type": "code",
   "execution_count": null,
   "metadata": {},
   "outputs": [],
   "source": [
    "t_0 = datetime(2020, 8, 25, 19, 48)\n",
    "t_1 = datetime(2020, 8, 25, 19, 52)\n",
    "files = l1b_radiances_all_conus.download(t_0, t_1)"
   ]
  },
  {
   "cell_type": "code",
   "execution_count": null,
   "metadata": {},
   "outputs": [],
   "source": [
    "from satpy import Scene\n",
    "from glob import glob\n",
    " \n",
    "scn = Scene(reader='abi_l1b', filenames=files)\n",
    "scn.load(['true_color'])\n",
    " \n",
    "new_scn = scn.resample(scn.min_area(), resampler='native')\n",
    "new_scn.save_dataset('true_color', filename='hurricane_laura'+'.png')"
   ]
  },
  {
   "cell_type": "code",
   "execution_count": null,
   "metadata": {},
   "outputs": [],
   "source": [
    "new_scn.show('true_color')"
   ]
  }
 ],
 "metadata": {
  "kernelspec": {
   "display_name": "Python 3",
   "language": "python",
   "name": "python3"
  },
  "language_info": {
   "codemirror_mode": {
    "name": "ipython",
    "version": 3
   },
   "file_extension": ".py",
   "mimetype": "text/x-python",
   "name": "python",
   "nbconvert_exporter": "python",
   "pygments_lexer": "ipython3",
   "version": "3.7.4"
  }
 },
 "nbformat": 4,
 "nbformat_minor": 4
}
