{
 "cells": [
  {
   "cell_type": "markdown",
   "metadata": {},
   "source": [
    "# IGRA\n",
    "\n",
    "\n",
    "Download data from the **Integrated Global Radiosonde Archive (IGRA)**: https://www.ncdc.noaa.gov/data-access/weather-balloon/integrated-global-radiosonde-archive"
   ]
  },
  {
   "cell_type": "code",
   "execution_count": 1,
   "metadata": {},
   "outputs": [],
   "source": [
    "from pansat.products.stations import igra"
   ]
  },
  {
   "cell_type": "markdown",
   "metadata": {},
   "source": [
    "## Per station \n"
   ]
  },
  {
   "cell_type": "code",
   "execution_count": 2,
   "metadata": {},
   "outputs": [
    {
     "name": "stdout",
     "output_type": "stream",
     "text": [
      "Please enter your pansat user password:\n",
      "········\n"
     ]
    }
   ],
   "source": [
    "# create product instance for station location (finds closest station to [lat,lon])\n",
    "radiosounding = igra.IGRASoundings(station=[35,105])"
   ]
  },
  {
   "cell_type": "code",
   "execution_count": 6,
   "metadata": {},
   "outputs": [
    {
     "data": {
      "text/html": [
       "<div>\n",
       "<style scoped>\n",
       "    .dataframe tbody tr th:only-of-type {\n",
       "        vertical-align: middle;\n",
       "    }\n",
       "\n",
       "    .dataframe tbody tr th {\n",
       "        vertical-align: top;\n",
       "    }\n",
       "\n",
       "    .dataframe thead th {\n",
       "        text-align: right;\n",
       "    }\n",
       "</style>\n",
       "<table border=\"1\" class=\"dataframe\">\n",
       "  <thead>\n",
       "    <tr style=\"text-align: right;\">\n",
       "      <th></th>\n",
       "      <th>ID</th>\n",
       "      <th>lat</th>\n",
       "      <th>lon</th>\n",
       "      <th>n</th>\n",
       "      <th>name</th>\n",
       "      <th>start</th>\n",
       "      <th>end</th>\n",
       "      <th>nr</th>\n",
       "    </tr>\n",
       "  </thead>\n",
       "  <tbody>\n",
       "    <tr>\n",
       "      <th>553</th>\n",
       "      <td>CHM00057006</td>\n",
       "      <td>34.583</td>\n",
       "      <td>105.75</td>\n",
       "      <td>1143.0</td>\n",
       "      <td>TIANSHUI</td>\n",
       "      <td>1973</td>\n",
       "      <td>1987</td>\n",
       "      <td>6899</td>\n",
       "    </tr>\n",
       "  </tbody>\n",
       "</table>\n",
       "</div>"
      ],
      "text/plain": [
       "              ID     lat     lon       n      name  start   end    nr\n",
       "553  CHM00057006  34.583  105.75  1143.0  TIANSHUI   1973  1987  6899"
      ]
     },
     "execution_count": 6,
     "metadata": {},
     "output_type": "execute_result"
    }
   ],
   "source": [
    "# have a look at the meta data from the station \n",
    "radiosounding.station"
   ]
  },
  {
   "cell_type": "code",
   "execution_count": 7,
   "metadata": {},
   "outputs": [
    {
     "data": {
      "text/html": [
       "<div>\n",
       "<style scoped>\n",
       "    .dataframe tbody tr th:only-of-type {\n",
       "        vertical-align: middle;\n",
       "    }\n",
       "\n",
       "    .dataframe tbody tr th {\n",
       "        vertical-align: top;\n",
       "    }\n",
       "\n",
       "    .dataframe thead th {\n",
       "        text-align: right;\n",
       "    }\n",
       "</style>\n",
       "<table border=\"1\" class=\"dataframe\">\n",
       "  <thead>\n",
       "    <tr style=\"text-align: right;\">\n",
       "      <th></th>\n",
       "      <th>ID</th>\n",
       "      <th>lat</th>\n",
       "      <th>lon</th>\n",
       "      <th>n</th>\n",
       "      <th>name</th>\n",
       "      <th>start</th>\n",
       "      <th>end</th>\n",
       "      <th>nr</th>\n",
       "    </tr>\n",
       "  </thead>\n",
       "  <tbody>\n",
       "    <tr>\n",
       "      <th>0</th>\n",
       "      <td>ACM00078861</td>\n",
       "      <td>17.1170</td>\n",
       "      <td>-61.7830</td>\n",
       "      <td>10.0</td>\n",
       "      <td>COOLIDGE FIELD (UA)</td>\n",
       "      <td>1947</td>\n",
       "      <td>1993</td>\n",
       "      <td>13896</td>\n",
       "    </tr>\n",
       "    <tr>\n",
       "      <th>1</th>\n",
       "      <td>AEM00041217</td>\n",
       "      <td>24.4333</td>\n",
       "      <td>54.6500</td>\n",
       "      <td>16.0</td>\n",
       "      <td>ABU DHABI INTERNATIONAL AIRPOR</td>\n",
       "      <td>1983</td>\n",
       "      <td>2020</td>\n",
       "      <td>37511</td>\n",
       "    </tr>\n",
       "    <tr>\n",
       "      <th>2</th>\n",
       "      <td>AEXUAE05467</td>\n",
       "      <td>25.2500</td>\n",
       "      <td>55.3700</td>\n",
       "      <td>4.0</td>\n",
       "      <td>SHARJAH</td>\n",
       "      <td>1935</td>\n",
       "      <td>1942</td>\n",
       "      <td>2477</td>\n",
       "    </tr>\n",
       "    <tr>\n",
       "      <th>3</th>\n",
       "      <td>AFM00040911</td>\n",
       "      <td>36.7000</td>\n",
       "      <td>67.2000</td>\n",
       "      <td>378.0</td>\n",
       "      <td>MAZAR-I-SHARIF</td>\n",
       "      <td>2010</td>\n",
       "      <td>2014</td>\n",
       "      <td>2179</td>\n",
       "    </tr>\n",
       "    <tr>\n",
       "      <th>4</th>\n",
       "      <td>AFM00040913</td>\n",
       "      <td>36.6667</td>\n",
       "      <td>68.9167</td>\n",
       "      <td>433.0</td>\n",
       "      <td>KUNDUZ</td>\n",
       "      <td>2010</td>\n",
       "      <td>2013</td>\n",
       "      <td>4540</td>\n",
       "    </tr>\n",
       "    <tr>\n",
       "      <th>...</th>\n",
       "      <td>...</td>\n",
       "      <td>...</td>\n",
       "      <td>...</td>\n",
       "      <td>...</td>\n",
       "      <td>...</td>\n",
       "      <td>...</td>\n",
       "      <td>...</td>\n",
       "      <td>...</td>\n",
       "    </tr>\n",
       "    <tr>\n",
       "      <th>2783</th>\n",
       "      <td>ZZXUAICE022</td>\n",
       "      <td>-98.8888</td>\n",
       "      <td>-998.8888</td>\n",
       "      <td>-998.8</td>\n",
       "      <td>NP22</td>\n",
       "      <td>1974</td>\n",
       "      <td>1982</td>\n",
       "      <td>2862</td>\n",
       "    </tr>\n",
       "    <tr>\n",
       "      <th>2784</th>\n",
       "      <td>ZZXUAICE026</td>\n",
       "      <td>-98.8888</td>\n",
       "      <td>-998.8888</td>\n",
       "      <td>-998.8</td>\n",
       "      <td>NP26</td>\n",
       "      <td>1983</td>\n",
       "      <td>1986</td>\n",
       "      <td>824</td>\n",
       "    </tr>\n",
       "    <tr>\n",
       "      <th>2785</th>\n",
       "      <td>ZZXUAICE028</td>\n",
       "      <td>-98.8888</td>\n",
       "      <td>-998.8888</td>\n",
       "      <td>-998.8</td>\n",
       "      <td>NP28</td>\n",
       "      <td>1986</td>\n",
       "      <td>1988</td>\n",
       "      <td>915</td>\n",
       "    </tr>\n",
       "    <tr>\n",
       "      <th>2786</th>\n",
       "      <td>ZZXUAICE030</td>\n",
       "      <td>-98.8888</td>\n",
       "      <td>-998.8888</td>\n",
       "      <td>-998.8</td>\n",
       "      <td>NP30</td>\n",
       "      <td>1988</td>\n",
       "      <td>1990</td>\n",
       "      <td>576</td>\n",
       "    </tr>\n",
       "    <tr>\n",
       "      <th>2787</th>\n",
       "      <td>ZZXUAICE031</td>\n",
       "      <td>-98.8888</td>\n",
       "      <td>-998.8888</td>\n",
       "      <td>-998.8</td>\n",
       "      <td>NP31</td>\n",
       "      <td>1989</td>\n",
       "      <td>1991</td>\n",
       "      <td>717</td>\n",
       "    </tr>\n",
       "  </tbody>\n",
       "</table>\n",
       "<p>2788 rows × 8 columns</p>\n",
       "</div>"
      ],
      "text/plain": [
       "               ID      lat       lon      n                            name  \\\n",
       "0     ACM00078861  17.1170  -61.7830   10.0             COOLIDGE FIELD (UA)   \n",
       "1     AEM00041217  24.4333   54.6500   16.0  ABU DHABI INTERNATIONAL AIRPOR   \n",
       "2     AEXUAE05467  25.2500   55.3700    4.0                         SHARJAH   \n",
       "3     AFM00040911  36.7000   67.2000  378.0                  MAZAR-I-SHARIF   \n",
       "4     AFM00040913  36.6667   68.9167  433.0                          KUNDUZ   \n",
       "...           ...      ...       ...    ...                             ...   \n",
       "2783  ZZXUAICE022 -98.8888 -998.8888 -998.8                            NP22   \n",
       "2784  ZZXUAICE026 -98.8888 -998.8888 -998.8                            NP26   \n",
       "2785  ZZXUAICE028 -98.8888 -998.8888 -998.8                            NP28   \n",
       "2786  ZZXUAICE030 -98.8888 -998.8888 -998.8                            NP30   \n",
       "2787  ZZXUAICE031 -98.8888 -998.8888 -998.8                            NP31   \n",
       "\n",
       "      start   end     nr  \n",
       "0      1947  1993  13896  \n",
       "1      1983  2020  37511  \n",
       "2      1935  1942   2477  \n",
       "3      2010  2014   2179  \n",
       "4      2010  2013   4540  \n",
       "...     ...   ...    ...  \n",
       "2783   1974  1982   2862  \n",
       "2784   1983  1986    824  \n",
       "2785   1986  1988    915  \n",
       "2786   1988  1990    576  \n",
       "2787   1989  1991    717  \n",
       "\n",
       "[2788 rows x 8 columns]"
      ]
     },
     "execution_count": 7,
     "metadata": {},
     "output_type": "execute_result"
    }
   ],
   "source": [
    "# have a look at the meta data from all stations \n",
    "radiosounding.locs"
   ]
  },
  {
   "cell_type": "code",
   "execution_count": 8,
   "metadata": {},
   "outputs": [],
   "source": [
    "# download all data for station by name \n",
    "radiosounding = igra.IGRASoundings('ABU DHABI INTERNATIONAL AIRPOR')\n",
    "file = radiosounding.download()"
   ]
  },
  {
   "cell_type": "markdown",
   "metadata": {},
   "source": [
    "## Per variable (monthly, all stations)"
   ]
  },
  {
   "cell_type": "code",
   "execution_count": 2,
   "metadata": {},
   "outputs": [
    {
     "name": "stdout",
     "output_type": "stream",
     "text": [
      "Please enter your pansat user password:\n",
      "········\n"
     ]
    }
   ],
   "source": [
    "radiosounding = igra.IGRASoundings(variable = 'vapr')"
   ]
  },
  {
   "cell_type": "code",
   "execution_count": 3,
   "metadata": {},
   "outputs": [
    {
     "data": {
      "text/plain": [
       "['IGRA/igra-soundings/vapr_00z-mly.txt.zip',\n",
       " 'IGRA/igra-soundings/vapr_12z-mly.txt.zip']"
      ]
     },
     "execution_count": 3,
     "metadata": {},
     "output_type": "execute_result"
    }
   ],
   "source": [
    "# download only recent month\n",
    "radiosounding.download()"
   ]
  },
  {
   "cell_type": "code",
   "execution_count": null,
   "metadata": {},
   "outputs": [],
   "source": []
  },
  {
   "cell_type": "code",
   "execution_count": null,
   "metadata": {},
   "outputs": [],
   "source": []
  },
  {
   "cell_type": "markdown",
   "metadata": {},
   "source": [
    "## Open and plot data "
   ]
  },
  {
   "cell_type": "code",
   "execution_count": null,
   "metadata": {},
   "outputs": [],
   "source": []
  },
  {
   "cell_type": "code",
   "execution_count": null,
   "metadata": {},
   "outputs": [],
   "source": []
  },
  {
   "cell_type": "code",
   "execution_count": null,
   "metadata": {},
   "outputs": [],
   "source": []
  }
 ],
 "metadata": {
  "kernelspec": {
   "display_name": "Python 3",
   "language": "python",
   "name": "python3"
  },
  "language_info": {
   "codemirror_mode": {
    "name": "ipython",
    "version": 3
   },
   "file_extension": ".py",
   "mimetype": "text/x-python",
   "name": "python",
   "nbconvert_exporter": "python",
   "pygments_lexer": "ipython3",
   "version": "3.6.11"
  }
 },
 "nbformat": 4,
 "nbformat_minor": 4
}
