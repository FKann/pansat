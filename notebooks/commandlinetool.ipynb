{
 "cells": [
  {
   "cell_type": "markdown",
   "metadata": {},
   "source": [
    "# Commmandline Tool"
   ]
  },
  {
   "cell_type": "markdown",
   "metadata": {},
   "source": [
    "The commandline tool can be used to download data from different data providers. By using flags the product, the time range and in case of reanalysis data the spatial domain can be specified."
   ]
  },
  {
   "cell_type": "markdown",
   "metadata": {},
   "source": [
    "## Reanalysis data"
   ]
  },
  {
   "cell_type": "markdown",
   "metadata": {},
   "source": [
    "In order to download the ERA5 monthly mean 2m temperature data at the surface level from 2019-08-01 to 2019-09-01 use the following command:"
   ]
  },
  {
   "cell_type": "code",
   "execution_count": 1,
   "metadata": {},
   "outputs": [],
   "source": [
    "!pansat -t0 2019-08-01 -t1 2019-09-01 --type reanalysis --pm era5 --grid monthly surface --variable 2m_temperature"
   ]
  },
  {
   "cell_type": "markdown",
   "metadata": {},
   "source": [
    "You may only want to download a spatial subset of the ERA5 reanalysis data, for example the monthly mean of the sea level pressure in the Artic between 1999-08-01 and 1999-09-01."
   ]
  },
  {
   "cell_type": "code",
   "execution_count": 2,
   "metadata": {},
   "outputs": [],
   "source": [
    "!pansat -t0 1999-08-01 -t1 1999-09-01 --type reanalysis --pm era5 --grid monthly surface -var mean_sea_level_pressure -d 60 90 -179 180"
   ]
  },
  {
   "cell_type": "markdown",
   "metadata": {},
   "source": [
    "To download NCEP Reanalysis data, such as the monthly mean of the relative humidity on pressure levels between 2015 and 2017 use the following flags. (Please note, that the start and end time have to be entered in ISO 8601 format, even if only the years are going to be considered.)"
   ]
  },
  {
   "cell_type": "code",
   "execution_count": 1,
   "metadata": {},
   "outputs": [
    {
     "name": "stdout",
     "output_type": "stream",
     "text": [
      "Traceback (most recent call last):\n",
      "  File \"/home/franzk/anaconda2/envs/python38/bin/pansat\", line 8, in <module>\n",
      "    sys.exit(download())\n",
      "  File \"/home/franzk/Documents/courses/SSDP/pansat/pansat/pansat/download/commandline.py\", line 225, in download\n",
      "    files = productfunc.download(args.starttime, args.endtime)\n",
      "  File \"/home/franzk/Documents/courses/SSDP/pansat/pansat/pansat/products/reanalysis/ncep.py\", line 130, in download\n",
      "    downloaded = provider.download(t0, t1, destination)\n",
      "  File \"/home/franzk/Documents/courses/SSDP/pansat/pansat/pansat/download/providers/noaa.py\", line 161, in download\n",
      "    ftp.retrbinary(\"RETR \" + filename, fp.write)\n",
      "  File \"/home/franzk/anaconda2/envs/python38/lib/python3.8/ftplib.py\", line 425, in retrbinary\n",
      "    with self.transfercmd(cmd, rest) as conn:\n",
      "  File \"/home/franzk/anaconda2/envs/python38/lib/python3.8/ftplib.py\", line 382, in transfercmd\n",
      "    return self.ntransfercmd(cmd, rest)[0]\n",
      "  File \"/home/franzk/anaconda2/envs/python38/lib/python3.8/ftplib.py\", line 348, in ntransfercmd\n",
      "    resp = self.sendcmd(cmd)\n",
      "  File \"/home/franzk/anaconda2/envs/python38/lib/python3.8/ftplib.py\", line 275, in sendcmd\n",
      "    return self.getresp()\n",
      "  File \"/home/franzk/anaconda2/envs/python38/lib/python3.8/ftplib.py\", line 248, in getresp\n",
      "    raise error_perm(resp)\n",
      "ftplib.error_perm: 550 Failed to open file.\n"
     ]
    }
   ],
   "source": [
    "!pansat -t0 2015-01-01 -t1 2017-01-01 --type reanalysis --pm ncep --grid pressure --var rhum"
   ]
  },
  {
   "cell_type": "markdown",
   "metadata": {},
   "source": [
    "## Satellite data"
   ]
  },
  {
   "cell_type": "markdown",
   "metadata": {},
   "source": [
    "Satellite data, such as the 2B-GEOPROF product from the CloudSat satellite from 2016-11-21 between 10 and 12 o'clock can be downloaded by:"
   ]
  },
  {
   "cell_type": "code",
   "execution_count": 3,
   "metadata": {},
   "outputs": [],
   "source": [
    "!pansat -t0 2016-11-21T10 -t1 2016-11-21T12 --type satellite --pm cloud_sat --prod 2b_geoprof"
   ]
  },
  {
   "cell_type": "markdown",
   "metadata": {},
   "source": [
    "## Ground based"
   ]
  },
  {
   "cell_type": "markdown",
   "metadata": {},
   "source": [
    "Data from ground based meaurements, such as the rainfall rate product from the OPERA network can be downloaded by:"
   ]
  },
  {
   "cell_type": "code",
   "execution_count": 4,
   "metadata": {},
   "outputs": [],
   "source": [
    "!pansat --type ground_based --pm opera -t0 2020-10-01T10:15 -t1 2020-10-01T10:30 -prod rainfall_rate"
   ]
  },
  {
   "cell_type": "markdown",
   "metadata": {},
   "source": [
    "## Stations"
   ]
  },
  {
   "cell_type": "markdown",
   "metadata": {},
   "source": [
    "Data from the Integrated Global Radiosonde Archive (IGRA) can be downloaded in three different ways."
   ]
  },
  {
   "cell_type": "markdown",
   "metadata": {},
   "source": [
    "By specifying a location in latitude and longitude (here, 35&deg;N, 105&deg;E):"
   ]
  },
  {
   "cell_type": "code",
   "execution_count": 5,
   "metadata": {},
   "outputs": [],
   "source": [
    "!pansat -t0 2020-10-01T10:15 -t1 2020-10-01T10:30 --type stations --pm igra -loc 35 105"
   ]
  },
  {
   "cell_type": "markdown",
   "metadata": {},
   "source": [
    "By giving the station name:"
   ]
  },
  {
   "cell_type": "code",
   "execution_count": 6,
   "metadata": {},
   "outputs": [],
   "source": [
    "!pansat -t0 2020-10-01T10:15 -t1 2020-10-01T10:30 --type stations --pm igra --name 'ABU DHABI INTERNATIONAL AIRPOR'"
   ]
  },
  {
   "cell_type": "markdown",
   "metadata": {},
   "source": [
    "And, finally, by specifying a variable (here, \"temp\"). The additional keyword \"recent\" limits the download to the last available month."
   ]
  },
  {
   "cell_type": "code",
   "execution_count": 7,
   "metadata": {},
   "outputs": [
    {
     "name": "stdout",
     "output_type": "stream",
     "text": [
      "Traceback (most recent call last):\n",
      "  File \"/home/franzk/anaconda2/envs/python38/bin/pansat\", line 8, in <module>\n",
      "    sys.exit(download())\n",
      "  File \"/home/franzk/Documents/courses/SSDP/pansat/pansat/pansat/download/commandline.py\", line 233, in download\n",
      "    files = productfunc.download('recent')\n",
      "  File \"/home/franzk/Documents/courses/SSDP/pansat/pansat/pansat/products/stations/igra.py\", line 256, in download\n",
      "    downloaded = provider.download(\n",
      "  File \"/home/franzk/Documents/courses/SSDP/pansat/pansat/pansat/download/providers/noaa.py\", line 161, in download\n",
      "    ftp.retrbinary(\"RETR \" + filename, fp.write)\n",
      "  File \"/home/franzk/anaconda2/envs/python38/lib/python3.8/ftplib.py\", line 425, in retrbinary\n",
      "    with self.transfercmd(cmd, rest) as conn:\n",
      "  File \"/home/franzk/anaconda2/envs/python38/lib/python3.8/ftplib.py\", line 382, in transfercmd\n",
      "    return self.ntransfercmd(cmd, rest)[0]\n",
      "  File \"/home/franzk/anaconda2/envs/python38/lib/python3.8/ftplib.py\", line 348, in ntransfercmd\n",
      "    resp = self.sendcmd(cmd)\n",
      "  File \"/home/franzk/anaconda2/envs/python38/lib/python3.8/ftplib.py\", line 275, in sendcmd\n",
      "    return self.getresp()\n",
      "  File \"/home/franzk/anaconda2/envs/python38/lib/python3.8/ftplib.py\", line 248, in getresp\n",
      "    raise error_perm(resp)\n",
      "ftplib.error_perm: 550 temp_00z-mly-202011.txt.zip: No such file or directory\n"
     ]
    }
   ],
   "source": [
    "!pansat -t0 2020-10-01T10:15 -t1 2020-10-01T10:30 --type stations --pm igra -var temp --recent"
   ]
  },
  {
   "cell_type": "code",
   "execution_count": null,
   "metadata": {},
   "outputs": [],
   "source": []
  }
 ],
 "metadata": {
  "kernelspec": {
   "display_name": "Python 3",
   "language": "python",
   "name": "python3"
  },
  "language_info": {
   "codemirror_mode": {
    "name": "ipython",
    "version": 3
   },
   "file_extension": ".py",
   "mimetype": "text/x-python",
   "name": "python",
   "nbconvert_exporter": "python",
   "pygments_lexer": "ipython3",
   "version": "3.8.6"
  }
 },
 "nbformat": 4,
 "nbformat_minor": 2
}
