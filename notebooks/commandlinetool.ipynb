{
 "cells": [
  {
   "cell_type": "markdown",
   "metadata": {},
   "source": [
    "# Commmandline Tool"
   ]
  },
  {
   "cell_type": "markdown",
   "metadata": {},
   "source": [
    "The commandline tool can be used to download data from different data providers. By using flags the product, the time range and in case of reanalysis data the spatial domain can be specified."
   ]
  },
  {
   "cell_type": "markdown",
   "metadata": {},
   "source": [
    "## Reanalysis data"
   ]
  },
  {
   "cell_type": "markdown",
   "metadata": {},
   "source": [
    "In order to download the ERA5 monthly mean 2m temperature data at the surface level from 2019-08-01 to 2019-09-01 use the following command:"
   ]
  },
  {
   "cell_type": "code",
   "execution_count": null,
   "metadata": {},
   "outputs": [],
   "source": [
    "!pansat -t0 2019-08-01 -t1 2019-09-01 --type reanalysis --pm era5 --product monthly surface --variable 2m_temperature"
   ]
  },
  {
   "cell_type": "markdown",
   "metadata": {},
   "source": [
    "You may only want to download a spatial subset of the reanalysis data, for example the monthly mean of the sea level pressure in the Artic between 1999-08-01 and 1999-09-01."
   ]
  },
  {
   "cell_type": "code",
   "execution_count": null,
   "metadata": {},
   "outputs": [],
   "source": [
    "!pansat -t0 1999-08-01 -t1 1999-09-01 --type reanalysis --pm era5 --prod monthly surface -var mean_sea_level_pressure -d 60 90 -179 180"
   ]
  },
  {
   "cell_type": "markdown",
   "metadata": {},
   "source": [
    "## Satellite data"
   ]
  },
  {
   "cell_type": "markdown",
   "metadata": {},
   "source": [
    "Satellite data, such as the 2B-GEOPROF product from the CloudSat satellite from 2016-11-21 betwenn 10 and 12 can be downloaded by:"
   ]
  },
  {
   "cell_type": "code",
   "execution_count": null,
   "metadata": {},
   "outputs": [],
   "source": [
    "!pansat -t0 2016-11-21T10 -t1 2016-11-21T12 --type satellite --pm cloud_sat --prod 2b_geoprof"
   ]
  }
 ],
 "metadata": {
  "kernelspec": {
   "display_name": "Python 3",
   "language": "python",
   "name": "python3"
  },
  "language_info": {
   "codemirror_mode": {
    "name": "ipython",
    "version": 3
   },
   "file_extension": ".py",
   "mimetype": "text/x-python",
   "name": "python",
   "nbconvert_exporter": "python",
   "pygments_lexer": "ipython3",
   "version": "3.7.3"
  }
 },
 "nbformat": 4,
 "nbformat_minor": 2
}
